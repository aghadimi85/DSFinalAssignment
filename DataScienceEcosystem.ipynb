{
 "cells": [
  {
   "cell_type": "markdown",
   "id": "c4fb3aeb-9012-4c1f-b6fb-974ec83fef73",
   "metadata": {},
   "source": [
    "# Data Science Tools and Ecosystem"
   ]
  },
  {
   "cell_type": "markdown",
   "id": "e9fd87a1-3a2c-4d94-8a9a-ae33bd221dbf",
   "metadata": {},
   "source": [
    "# Introduction\n",
    "\n",
    "In this notebook, Data Science Tools and Ecosystem are summarized."
   ]
  },
  {
   "cell_type": "markdown",
   "id": "ac4d27c1-8d9b-40f2-ac60-25bd698c0380",
   "metadata": {},
   "source": [
    "**Objectives:**\n",
    "\n",
    "- List popular languages for Data Science  \n",
    "- Libraries Data Science  \n",
    "- Introduction to Jupyter Notebooks\n",
    "- Plotting in RStudio\n",
    "- GitHub Repositories"
   ]
  },
  {
   "cell_type": "markdown",
   "id": "0903d11b-a925-4487-bdcb-2e0ed4bb73f9",
   "metadata": {},
   "source": [
    "Some of the popular languages that Data Scientists use are:\n",
    "1. Python\n",
    "2. R\n",
    "3. Java\n",
    "4. SQL\n",
    "5. Julia"
   ]
  },
  {
   "cell_type": "markdown",
   "id": "5985ea4d-f65f-42a9-9a01-2543f3031056",
   "metadata": {},
   "source": [
    "Some of the commonly used libraries used by Data Scientists include:\n",
    "\n",
    "1. NumPy  \n",
    "2. Pandas  \n",
    "3. Matplotlib  \n",
    "4. Scikit-learn  \n",
    "5. TensorFlow"
   ]
  },
  {
   "cell_type": "markdown",
   "id": "c6bc2927-2cc6-489c-8ee7-98fc996a0595",
   "metadata": {},
   "source": [
    "| Data Science Tools |\n",
    "|---------------------|\n",
    "| Jupyter Notebook    |\n",
    "| RStudio             |\n",
    "| Apache Zeppelin     |"
   ]
  },
  {
   "cell_type": "markdown",
   "id": "c84af148-2cfd-4fad-b382-e759e359af76",
   "metadata": {},
   "source": [
    "### Below are a few examples of evaluating arithmetic expressions in Python.\n"
   ]
  },
  {
   "cell_type": "code",
   "execution_count": 1,
   "id": "d3b1a076-0027-4de4-af54-e97d31b82e1b",
   "metadata": {},
   "outputs": [
    {
     "name": "stdout",
     "output_type": "stream",
     "text": [
      "17\n"
     ]
    }
   ],
   "source": [
    "# This a simple arithmetic expression to mutiply then add integers\n",
    "\n",
    "result = (3*4)+5\n",
    "print(result)"
   ]
  },
  {
   "cell_type": "code",
   "execution_count": 3,
   "id": "d0bcbab1-9a73-432b-ac91-abe64ca3e728",
   "metadata": {},
   "outputs": [
    {
     "name": "stdout",
     "output_type": "stream",
     "text": [
      "3.3333333333333335\n"
     ]
    }
   ],
   "source": [
    "# This will convert 200 minutes to hours by diving by 60\n",
    "\n",
    "hours = 200 / 60\n",
    "print(hours)"
   ]
  },
  {
   "cell_type": "markdown",
   "id": "5645d5d9-89a1-495e-9bef-cf78e4d8bcbe",
   "metadata": {},
   "source": [
    "## Author\n",
    "Azar Ghadimi"
   ]
  },
  {
   "cell_type": "code",
   "execution_count": null,
   "id": "3b73f1e8-ab42-4e5a-a22a-da9e37760c56",
   "metadata": {},
   "outputs": [],
   "source": []
  }
 ],
 "metadata": {
  "kernelspec": {
   "display_name": "Python 3 (ipykernel)",
   "language": "python",
   "name": "python3"
  },
  "language_info": {
   "codemirror_mode": {
    "name": "ipython",
    "version": 3
   },
   "file_extension": ".py",
   "mimetype": "text/x-python",
   "name": "python",
   "nbconvert_exporter": "python",
   "pygments_lexer": "ipython3",
   "version": "3.13.5"
  }
 },
 "nbformat": 4,
 "nbformat_minor": 5
}
